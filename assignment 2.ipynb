{
 "cells": [
  {
   "cell_type": "code",
   "execution_count": 1,
   "id": "7516e177-7708-4b78-8b3e-82808e09fa56",
   "metadata": {},
   "outputs": [
    {
     "name": "stdin",
     "output_type": "stream",
     "text": [
      "enter the marks 66\n"
     ]
    },
    {
     "name": "stdout",
     "output_type": "stream",
     "text": [
      "grade C\n"
     ]
    }
   ],
   "source": [
    "##1\n",
    "marks=int(input(\"enter the marks\"))\n",
    "if marks>90:\n",
    "    print(\"grade A\")\n",
    "elif 90>=marks>80:\n",
    "    print(\"grade B\")\n",
    "elif 80>=marks>60:\n",
    "    print(\"grade C\")\n",
    "else:\n",
    "    print(\"grade D\")\n"
   ]
  },
  {
   "cell_type": "code",
   "execution_count": 3,
   "id": "281d8695-c546-48fa-9d00-0dae8ee3e07f",
   "metadata": {},
   "outputs": [
    {
     "name": "stdin",
     "output_type": "stream",
     "text": [
      "enter the price of bike 50000\n"
     ]
    },
    {
     "name": "stdout",
     "output_type": "stream",
     "text": [
      "5%\n"
     ]
    }
   ],
   "source": [
    "##2\n",
    "price=int(input(\"enter the price of bike\"))\n",
    "if price>100000:\n",
    "    print(\"15%\")\n",
    "elif 100000>=price>50000:\n",
    "    print(\"10%\")\n",
    "else: \n",
    "    print(\"5%\")\n",
    "    \n"
   ]
  },
  {
   "cell_type": "code",
   "execution_count": 8,
   "id": "215e4db8-c1e3-40c7-9e9d-6bddafdba88d",
   "metadata": {},
   "outputs": [
    {
     "name": "stdin",
     "output_type": "stream",
     "text": [
      "enter the name of city delhi\n"
     ]
    },
    {
     "name": "stdout",
     "output_type": "stream",
     "text": [
      "red fort\n"
     ]
    }
   ],
   "source": [
    "##3\n",
    "a,b,c=\"delhi\",\"agra\",\"jaipur\"\n",
    "city=input(\"enter the name of city\")\n",
    "if city==a:\n",
    "    print(\"red fort\")\n",
    "elif city==b:\n",
    "    print(\"taj mahal\")\n",
    "elif city==c:\n",
    "    print(\"jal mahal\")"
   ]
  },
  {
   "cell_type": "code",
   "execution_count": 18,
   "id": "67584d4b-6557-446e-89e2-33e50dece44b",
   "metadata": {},
   "outputs": [
    {
     "name": "stdin",
     "output_type": "stream",
     "text": [
      "enter the number 50\n"
     ]
    },
    {
     "name": "stdout",
     "output_type": "stream",
     "text": [
      "2\n"
     ]
    }
   ],
   "source": [
    "##4\n",
    "n=int(input(\"enter the number\"))\n",
    "a=0\n",
    "i=1\n",
    "while n>=10:\n",
    "    n=n/3\n",
    "    a=a+1\n",
    "print(a)"
   ]
  },
  {
   "cell_type": "code",
   "execution_count": 19,
   "id": "47374693-1ab1-4811-b689-634cd32f8200",
   "metadata": {},
   "outputs": [
    {
     "ename": "SyntaxError",
     "evalue": "invalid syntax (1880239975.py, line 2)",
     "output_type": "error",
     "traceback": [
      "\u001b[0;36m  Cell \u001b[0;32mIn[19], line 2\u001b[0;36m\u001b[0m\n\u001b[0;31m    while loop is use when there is any condition to perform operation.\u001b[0m\n\u001b[0m                      ^\u001b[0m\n\u001b[0;31mSyntaxError\u001b[0m\u001b[0;31m:\u001b[0m invalid syntax\n"
     ]
    }
   ],
   "source": [
    "##5\n",
    "while loop is use when there is any condition to perform operation.\n",
    "like question number 4."
   ]
  },
  {
   "cell_type": "code",
   "execution_count": 25,
   "id": "78723992-1ee4-4088-b9eb-2e6f35a313cc",
   "metadata": {},
   "outputs": [
    {
     "name": "stdout",
     "output_type": "stream",
     "text": [
      "*  \n",
      "\n",
      "* *  \n",
      "\n",
      "* * *  \n",
      "\n",
      "* * * *  \n",
      "\n",
      "* * * * *  \n",
      "\n",
      "* * * * * *  \n",
      "\n",
      "* * * * * * *  \n",
      "\n",
      "* * * * * * * *  \n",
      "\n",
      "* * * * * * * * *  \n",
      "\n",
      "* * * * * * * * * *  \n",
      "\n"
     ]
    }
   ],
   "source": [
    "##6 right anle triangle\n",
    "row,col=1,1\n",
    "while row<=10:\n",
    "    while col<=row:\n",
    "        print(row*\"* \",\"\\n\")\n",
    "        col+=1\n",
    "    row+=1"
   ]
  },
  {
   "cell_type": "code",
   "execution_count": 28,
   "id": "c0916be0-4153-46bc-b204-9228a83222dd",
   "metadata": {},
   "outputs": [
    {
     "name": "stdout",
     "output_type": "stream",
     "text": [
      "* * * * * * * * * *  \n",
      "\n",
      "* * * * * * * * * *  \n",
      "\n",
      "* * * * * * * * * *  \n",
      "\n",
      "* * * * * * * * * *  \n",
      "\n",
      "* * * * * * * * * *  \n",
      "\n",
      "* * * * * * * * * *  \n",
      "\n",
      "* * * * * * * * * *  \n",
      "\n",
      "* * * * * * * * * *  \n",
      "\n",
      "* * * * * * * * * *  \n",
      "\n",
      "* * * * * * * * * *  \n",
      "\n"
     ]
    }
   ],
   "source": [
    "##6 square\n",
    "row,col=1,1\n",
    "while row<=10:\n",
    "    while col<=10:\n",
    "        print(10*\"* \",\"\\n\")\n",
    "        col+=1\n",
    "    row+=1"
   ]
  },
  {
   "cell_type": "code",
   "execution_count": null,
   "id": "82d67db3-dbca-481b-acc0-2eb117137607",
   "metadata": {},
   "outputs": [],
   "source": [
    "##7 program to display a reverse numbersfrom 10 to 1\n",
    "n=10\n",
    "while n>=0"
   ]
  }
 ],
 "metadata": {
  "kernelspec": {
   "display_name": "Python 3 (ipykernel)",
   "language": "python",
   "name": "python3"
  },
  "language_info": {
   "codemirror_mode": {
    "name": "ipython",
    "version": 3
   },
   "file_extension": ".py",
   "mimetype": "text/x-python",
   "name": "python",
   "nbconvert_exporter": "python",
   "pygments_lexer": "ipython3",
   "version": "3.10.8"
  }
 },
 "nbformat": 4,
 "nbformat_minor": 5
}
